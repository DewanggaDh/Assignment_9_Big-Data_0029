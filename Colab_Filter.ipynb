{
  "nbformat": 4,
  "nbformat_minor": 0,
  "metadata": {
    "colab": {
      "provenance": []
    },
    "kernelspec": {
      "name": "python3",
      "display_name": "Python 3"
    },
    "language_info": {
      "name": "python"
    }
  },
  "cells": [
    {
      "cell_type": "code",
      "source": [
        "!pip install pyspark"
      ],
      "metadata": {
        "colab": {
          "base_uri": "https://localhost:8080/"
        },
        "id": "ZLdg2eo_xM1v",
        "outputId": "15c86da6-e1b3-404f-82c9-b67a10643ccb"
      },
      "execution_count": 36,
      "outputs": [
        {
          "output_type": "stream",
          "name": "stdout",
          "text": [
            "Looking in indexes: https://pypi.org/simple, https://us-python.pkg.dev/colab-wheels/public/simple/\n",
            "Requirement already satisfied: pyspark in /usr/local/lib/python3.9/dist-packages (3.3.2)\n",
            "Requirement already satisfied: py4j==0.10.9.5 in /usr/local/lib/python3.9/dist-packages (from pyspark) (0.10.9.5)\n"
          ]
        }
      ]
    },
    {
      "cell_type": "code",
      "source": [
        "\n",
        "from pyspark.sql import SparkSession\n",
        "\n",
        "\n",
        "spark = SparkSession.builder \\\n",
        "    .master(\"local[*]\") \\\n",
        "    .appName(\"Hello Pyspark\") \\\n",
        "    .config(\"spark.some.config.option\", \"some-value\") \\\n",
        "    .getOrCreate()"
      ],
      "metadata": {
        "id": "6WdsS9KyxRuH"
      },
      "execution_count": 37,
      "outputs": []
    },
    {
      "cell_type": "code",
      "execution_count": 38,
      "metadata": {
        "id": "s5oTDd87w4I-"
      },
      "outputs": [],
      "source": [
        "from pyspark.ml.evaluation import RegressionEvaluator\n",
        "from pyspark.ml.recommendation import ALS\n",
        "from pyspark.sql import Row"
      ]
    },
    {
      "cell_type": "code",
      "source": [
        "#!pip install wget"
      ],
      "metadata": {
        "id": "tA0iBbdYzQdL"
      },
      "execution_count": 39,
      "outputs": []
    },
    {
      "cell_type": "code",
      "source": [
        "#import wget"
      ],
      "metadata": {
        "id": "tAKx0geezOz5"
      },
      "execution_count": 40,
      "outputs": []
    },
    {
      "cell_type": "code",
      "source": [
        "#file = wget.download('https://raw.githubusercontent.com/apache/spark/master/data/mllib/als/sample_movielens_ratings.txt')"
      ],
      "metadata": {
        "id": "aYVMt4Y1zTsn"
      },
      "execution_count": 41,
      "outputs": []
    },
    {
      "cell_type": "code",
      "source": [
        "# lines = spark.read.text('/content/sample_movielens_ratings.txt').rdd\n",
        "lines = spark.read.text('sample_movielens_ratings.txt').rdd"
      ],
      "metadata": {
        "id": "vn4Q9AwpxmsO"
      },
      "execution_count": 42,
      "outputs": []
    },
    {
      "cell_type": "code",
      "source": [
        "parts = lines.map(lambda row: row.value.split(\"::\"))\n",
        "ratingsRDD = parts.map(lambda p: Row(userId=int(p[0]), movieId=int(p[1]), rating=float(p[2]), timestamp=int(p[3])))\n",
        "ratings = spark.createDataFrame(ratingsRDD)\n",
        "(training, test) = ratings.randomSplit([0.8, 0.2], seed = 99)"
      ],
      "metadata": {
        "id": "zibHxke7zh4v"
      },
      "execution_count": 43,
      "outputs": []
    },
    {
      "cell_type": "code",
      "source": [
        "ratings.show()"
      ],
      "metadata": {
        "colab": {
          "base_uri": "https://localhost:8080/"
        },
        "id": "9uzLzY_Sznb8",
        "outputId": "0c0cff49-ad42-4d3a-973a-49c743208ac3"
      },
      "execution_count": 44,
      "outputs": [
        {
          "output_type": "stream",
          "name": "stdout",
          "text": [
            "+------+-------+------+----------+\n",
            "|userId|movieId|rating| timestamp|\n",
            "+------+-------+------+----------+\n",
            "|     0|      2|   3.0|1424380312|\n",
            "|     0|      3|   1.0|1424380312|\n",
            "|     0|      5|   2.0|1424380312|\n",
            "|     0|      9|   4.0|1424380312|\n",
            "|     0|     11|   1.0|1424380312|\n",
            "|     0|     12|   2.0|1424380312|\n",
            "|     0|     15|   1.0|1424380312|\n",
            "|     0|     17|   1.0|1424380312|\n",
            "|     0|     19|   1.0|1424380312|\n",
            "|     0|     21|   1.0|1424380312|\n",
            "|     0|     23|   1.0|1424380312|\n",
            "|     0|     26|   3.0|1424380312|\n",
            "|     0|     27|   1.0|1424380312|\n",
            "|     0|     28|   1.0|1424380312|\n",
            "|     0|     29|   1.0|1424380312|\n",
            "|     0|     30|   1.0|1424380312|\n",
            "|     0|     31|   1.0|1424380312|\n",
            "|     0|     34|   1.0|1424380312|\n",
            "|     0|     37|   1.0|1424380312|\n",
            "|     0|     41|   2.0|1424380312|\n",
            "+------+-------+------+----------+\n",
            "only showing top 20 rows\n",
            "\n"
          ]
        }
      ]
    },
    {
      "cell_type": "markdown",
      "source": [
        "# MaxIter = 5, regParam = 0.01\n",
        "\n",
        "ALS ditambahkan seed 99 agar hasilnya lebih konkrit pada tiap eksekusi\n",
        "\n",
        "RMSE = 2.063\n",
        "\n",
        "Makin kecil RMSE, makin baik model yang digunakan"
      ],
      "metadata": {
        "id": "QrOV19-bzv25"
      }
    },
    {
      "cell_type": "code",
      "source": [
        "als = ALS(maxIter=5, regParam=0.01, userCol=\"userId\", itemCol=\"movieId\", ratingCol=\"rating\", coldStartStrategy=\"drop\", seed = 99)\n",
        "model = als.fit(training)"
      ],
      "metadata": {
        "id": "cv-yCSyMzvZZ"
      },
      "execution_count": 45,
      "outputs": []
    },
    {
      "cell_type": "code",
      "source": [
        "predictions = model.transform(test)\n",
        "evaluator = RegressionEvaluator(metricName=\"rmse\", labelCol=\"rating\", predictionCol=\"prediction\")\n",
        "rmse = evaluator.evaluate(predictions)\n",
        "print(\"Root-mean-square error = \" + str(rmse))"
      ],
      "metadata": {
        "colab": {
          "base_uri": "https://localhost:8080/"
        },
        "id": "sq052NmBz8Kr",
        "outputId": "bf17e429-54a3-4697-c3a4-1659de5bc2b5"
      },
      "execution_count": 46,
      "outputs": [
        {
          "output_type": "stream",
          "name": "stdout",
          "text": [
            "Root-mean-square error = 2.0626911738577944\n"
          ]
        }
      ]
    },
    {
      "cell_type": "markdown",
      "source": [
        "# MaxIter = 10, regParam = 0.01\n",
        "\n",
        "RMSE = 2.051"
      ],
      "metadata": {
        "id": "nq6Cdnl80Tyg"
      }
    },
    {
      "cell_type": "code",
      "source": [
        "als = ALS(maxIter=10, regParam=0.01, userCol=\"userId\", itemCol=\"movieId\", ratingCol=\"rating\",coldStartStrategy=\"drop\", seed = 99)\n",
        "model = als.fit(training)\n",
        "predictions = model.transform(test)\n",
        "evaluator = RegressionEvaluator(metricName=\"rmse\", labelCol=\"rating\", predictionCol=\"prediction\")\n",
        "rmse = evaluator.evaluate(predictions)\n",
        "print(\"Root-mean-square error = \" + str(rmse))"
      ],
      "metadata": {
        "colab": {
          "base_uri": "https://localhost:8080/"
        },
        "id": "ZA76sTa80Y39",
        "outputId": "4ceff1a4-7b56-4458-bce4-3baeeaf39cfb"
      },
      "execution_count": 47,
      "outputs": [
        {
          "output_type": "stream",
          "name": "stdout",
          "text": [
            "Root-mean-square error = 2.0513665951162934\n"
          ]
        }
      ]
    },
    {
      "cell_type": "markdown",
      "source": [
        "# MaxIter = 15, regParam = 0.01\n",
        "\n",
        "Batas MaxIter adalah 15. Jika MaxIter adalah 20, maka koneksi terputus\n",
        "\n",
        "RMSE = 1.969"
      ],
      "metadata": {
        "id": "zZ4bqtVq1CtW"
      }
    },
    {
      "cell_type": "code",
      "source": [
        "als = ALS(maxIter=15, regParam=0.01, userCol=\"userId\", itemCol=\"movieId\", ratingCol=\"rating\",coldStartStrategy=\"drop\", seed = 99)\n",
        "model = als.fit(training)\n",
        "predictions = model.transform(test)\n",
        "evaluator = RegressionEvaluator(metricName=\"rmse\", labelCol=\"rating\", predictionCol=\"prediction\")\n",
        "rmse = evaluator.evaluate(predictions)\n",
        "print(\"Root-mean-square error = \" + str(rmse))"
      ],
      "metadata": {
        "colab": {
          "base_uri": "https://localhost:8080/"
        },
        "id": "lVDMQ-qi1A1k",
        "outputId": "017f069e-5ddb-4189-c8f7-ffdf9f85fa0c"
      },
      "execution_count": 48,
      "outputs": [
        {
          "output_type": "stream",
          "name": "stdout",
          "text": [
            "Root-mean-square error = 1.969322142542551\n"
          ]
        }
      ]
    },
    {
      "cell_type": "markdown",
      "source": [
        "# MaxIter = 15, refParam = 0.05\n",
        "\n",
        "RMSE = 1.073"
      ],
      "metadata": {
        "id": "DO3c_D_93kEo"
      }
    },
    {
      "cell_type": "code",
      "source": [
        "als = ALS(maxIter=15, regParam=0.05, userCol=\"userId\", itemCol=\"movieId\", ratingCol=\"rating\",coldStartStrategy=\"drop\", seed = 99)\n",
        "model = als.fit(training)\n",
        "predictions = model.transform(test)\n",
        "evaluator = RegressionEvaluator(metricName=\"rmse\", labelCol=\"rating\", predictionCol=\"prediction\")\n",
        "rmse = evaluator.evaluate(predictions)\n",
        "print(\"Root-mean-square error = \" + str(rmse))"
      ],
      "metadata": {
        "colab": {
          "base_uri": "https://localhost:8080/"
        },
        "id": "Zx5EMXJv3i1u",
        "outputId": "6ea09036-9a5e-4ba8-92cc-67c9bee1658a"
      },
      "execution_count": 49,
      "outputs": [
        {
          "output_type": "stream",
          "name": "stdout",
          "text": [
            "Root-mean-square error = 1.072580752954934\n"
          ]
        }
      ]
    },
    {
      "cell_type": "markdown",
      "source": [
        "# MaxIter = 15, refParam = 0.1\n",
        "\n",
        "RMSE = 0.9995"
      ],
      "metadata": {
        "id": "061Dwcb-380W"
      }
    },
    {
      "cell_type": "code",
      "source": [
        "als = ALS(maxIter=15, regParam=0.1, userCol=\"userId\", itemCol=\"movieId\", ratingCol=\"rating\",coldStartStrategy=\"drop\", seed = 99)\n",
        "model = als.fit(training)\n",
        "predictions = model.transform(test)\n",
        "evaluator = RegressionEvaluator(metricName=\"rmse\", labelCol=\"rating\", predictionCol=\"prediction\")\n",
        "rmse = evaluator.evaluate(predictions)\n",
        "print(\"Root-mean-square error = \" + str(rmse))"
      ],
      "metadata": {
        "colab": {
          "base_uri": "https://localhost:8080/"
        },
        "id": "j3wV9vUr38ag",
        "outputId": "44440c1b-f364-4e68-d264-9525c0b6f429"
      },
      "execution_count": 55,
      "outputs": [
        {
          "output_type": "stream",
          "name": "stdout",
          "text": [
            "Root-mean-square error = 0.999509719159825\n"
          ]
        }
      ]
    },
    {
      "cell_type": "markdown",
      "source": [
        "# MaxIter = 15, refParam = 0.5\n",
        "\n",
        "RMSE = 1.207"
      ],
      "metadata": {
        "id": "gE1mu86X7Y6p"
      }
    },
    {
      "cell_type": "code",
      "source": [
        "als = ALS(maxIter=15, regParam=0.5, userCol=\"userId\", itemCol=\"movieId\", ratingCol=\"rating\",coldStartStrategy=\"drop\", seed = 99)\n",
        "model = als.fit(training)\n",
        "predictions = model.transform(test)\n",
        "evaluator = RegressionEvaluator(metricName=\"rmse\", labelCol=\"rating\", predictionCol=\"prediction\")\n",
        "rmse = evaluator.evaluate(predictions)\n",
        "print(\"Root-mean-square error = \" + str(rmse))"
      ],
      "metadata": {
        "colab": {
          "base_uri": "https://localhost:8080/"
        },
        "id": "jlQnlUKv5MdU",
        "outputId": "c4c99f33-82cf-4cb8-9531-33f276804bf3"
      },
      "execution_count": 51,
      "outputs": [
        {
          "output_type": "stream",
          "name": "stdout",
          "text": [
            "Root-mean-square error = 1.206610765278927\n"
          ]
        }
      ]
    },
    {
      "cell_type": "markdown",
      "source": [
        "# MaxIter = 15, regParam = 0.25\n",
        "\n",
        "RMSE = 1.027"
      ],
      "metadata": {
        "id": "KINJELy-7c1O"
      }
    },
    {
      "cell_type": "code",
      "source": [
        "als = ALS(maxIter=15, regParam=0.25, userCol=\"userId\", itemCol=\"movieId\", ratingCol=\"rating\",coldStartStrategy=\"drop\", seed = 99)\n",
        "model = als.fit(training)\n",
        "predictions = model.transform(test)\n",
        "evaluator = RegressionEvaluator(metricName=\"rmse\", labelCol=\"rating\", predictionCol=\"prediction\")\n",
        "rmse = evaluator.evaluate(predictions)\n",
        "print(\"Root-mean-square error = \" + str(rmse))"
      ],
      "metadata": {
        "colab": {
          "base_uri": "https://localhost:8080/"
        },
        "id": "fRvJx4ZI5Qj8",
        "outputId": "a88b343f-3c20-473e-9596-320a081ad587"
      },
      "execution_count": 52,
      "outputs": [
        {
          "output_type": "stream",
          "name": "stdout",
          "text": [
            "Root-mean-square error = 1.0268995626538635\n"
          ]
        }
      ]
    },
    {
      "cell_type": "markdown",
      "source": [
        "# regParam antara 0.1 sampai 0.25\n",
        "\n",
        "Dicari regParam antara 0.14 sampai 0.15 selanjutnya"
      ],
      "metadata": {
        "id": "1wpMjp617gRe"
      }
    },
    {
      "cell_type": "code",
      "source": [
        "print('regParam\\tRMSE')\n",
        "for i in range(1,15):\n",
        "  als = ALS(maxIter=15, regParam=0.1 + (i * 0.01), userCol=\"userId\", itemCol=\"movieId\", ratingCol=\"rating\",coldStartStrategy=\"drop\", seed = 99)\n",
        "  model = als.fit(training)\n",
        "  predictions = model.transform(test)\n",
        "  evaluator = RegressionEvaluator(metricName=\"rmse\", labelCol=\"rating\", predictionCol=\"prediction\")\n",
        "  rmse = evaluator.evaluate(predictions)\n",
        "  print(str(0.1 + (i * 0.01)), '\\t', rmse)"
      ],
      "metadata": {
        "colab": {
          "base_uri": "https://localhost:8080/"
        },
        "id": "xTolKT9Q6JDN",
        "outputId": "0d09be93-8c51-4435-fdc2-e447dc76e844"
      },
      "execution_count": 53,
      "outputs": [
        {
          "output_type": "stream",
          "name": "stdout",
          "text": [
            "regParam\tRMSE\n",
            "0.11 \t 0.9955326587019249\n",
            "0.12000000000000001 \t 0.9929725417544433\n",
            "0.13 \t 0.9915492236967024\n",
            "0.14 \t 0.9911746886903878\n",
            "0.15000000000000002 \t 0.991962484546821\n",
            "0.16 \t 0.9949905116947975\n",
            "0.17 \t 1.0018878325897993\n",
            "0.18 \t 1.0006318112217538\n",
            "0.19 \t 1.0012860686330511\n",
            "0.2 \t 1.0038882304582124\n",
            "0.21000000000000002 \t 1.0075676409167806\n",
            "0.22 \t 1.0119116628913933\n",
            "0.23 \t 1.016656108557533\n",
            "0.24000000000000002 \t 1.0216635698157095\n"
          ]
        }
      ]
    },
    {
      "cell_type": "markdown",
      "source": [
        "# regParam antara 0.14 sampai 0.15\n",
        "\n",
        "Selanjutnya akan dicari regParam antara 0.14 sampai 0.141"
      ],
      "metadata": {
        "id": "Fa98N0Sj7t-M"
      }
    },
    {
      "cell_type": "code",
      "source": [
        "print('regParam\\tRMSE')\n",
        "for i in range(1,11):\n",
        "  als = ALS(maxIter=15, regParam=0.14 + (i * 0.001), userCol=\"userId\", itemCol=\"movieId\", ratingCol=\"rating\",coldStartStrategy=\"drop\", seed = 99)\n",
        "  model = als.fit(training)\n",
        "  predictions = model.transform(test)\n",
        "  evaluator = RegressionEvaluator(metricName=\"rmse\", labelCol=\"rating\", predictionCol=\"prediction\")\n",
        "  rmse = evaluator.evaluate(predictions)\n",
        "  print(str(0.14 + (i * 0.001)), '\\t', rmse)"
      ],
      "metadata": {
        "colab": {
          "base_uri": "https://localhost:8080/"
        },
        "id": "UDYsr06z63sI",
        "outputId": "e748bd01-d9c9-4040-9852-7ca61c2c45cf"
      },
      "execution_count": 56,
      "outputs": [
        {
          "output_type": "stream",
          "name": "stdout",
          "text": [
            "regParam\tRMSE\n",
            "0.14100000000000001 \t 0.9911959392033595\n",
            "0.14200000000000002 \t 0.9912285603092823\n",
            "0.14300000000000002 \t 0.9912729442133439\n",
            "0.14400000000000002 \t 0.9913294884331396\n",
            "0.14500000000000002 \t 0.9913986733239897\n",
            "0.14600000000000002 \t 0.9914812102520433\n",
            "0.14700000000000002 \t 0.9915778000739405\n",
            "0.14800000000000002 \t 0.9916894316696587\n",
            "0.14900000000000002 \t 0.9918171911974133\n",
            "0.15000000000000002 \t 0.991962484546821\n"
          ]
        }
      ]
    },
    {
      "cell_type": "markdown",
      "source": [
        "# regParam antara 0.14 sampai 0.141\n",
        "\n",
        "Sehingga, regParam yang tepat adalah 0.14"
      ],
      "metadata": {
        "id": "5m0xcMVo7zoN"
      }
    },
    {
      "cell_type": "code",
      "source": [
        "print('regParam\\tRMSE')\n",
        "for i in range(1,11):\n",
        "  als = ALS(maxIter=15, regParam=0.14 + (i * 0.0001), userCol=\"userId\", itemCol=\"movieId\", ratingCol=\"rating\",coldStartStrategy=\"drop\", seed = 99)\n",
        "  model = als.fit(training)\n",
        "  predictions = model.transform(test)\n",
        "  evaluator = RegressionEvaluator(metricName=\"rmse\", labelCol=\"rating\", predictionCol=\"prediction\")\n",
        "  rmse = evaluator.evaluate(predictions)\n",
        "  print(str(0.14 + (i * 0.0001)), '\\t', rmse)"
      ],
      "metadata": {
        "colab": {
          "base_uri": "https://localhost:8080/"
        },
        "id": "VtgGhABT7T-L",
        "outputId": "1b4f6530-c15f-465d-a3c5-45cb1c28fe7e"
      },
      "execution_count": 57,
      "outputs": [
        {
          "output_type": "stream",
          "name": "stdout",
          "text": [
            "regParam\tRMSE\n",
            "0.1401 \t 0.9911763060343723\n",
            "0.14020000000000002 \t 0.9911780452716271\n",
            "0.1403 \t 0.9911798727346361\n",
            "0.14040000000000002 \t 0.9911818440906244\n",
            "0.1405 \t 0.9911839067755341\n",
            "0.1406 \t 0.9911861029665376\n",
            "0.14070000000000002 \t 0.9911883650889476\n",
            "0.1408 \t 0.9911907982262541\n",
            "0.14090000000000003 \t 0.9911933002299144\n",
            "0.14100000000000001 \t 0.9911959392033598\n"
          ]
        }
      ]
    },
    {
      "cell_type": "markdown",
      "source": [
        "# maxIter = 15, regParam = 0.14\n",
        "\n",
        "RMSE = 0.9912"
      ],
      "metadata": {
        "id": "9ee1Hkz28BFr"
      }
    },
    {
      "cell_type": "code",
      "source": [
        "als = ALS(maxIter=15, regParam=0.14, userCol=\"userId\", itemCol=\"movieId\", ratingCol=\"rating\",coldStartStrategy=\"drop\", seed = 99)\n",
        "model = als.fit(training)\n",
        "predictions = model.transform(test)\n",
        "evaluator = RegressionEvaluator(metricName=\"rmse\", labelCol=\"rating\", predictionCol=\"prediction\")\n",
        "rmse = evaluator.evaluate(predictions)\n",
        "print(\"Root-mean-square error = \" + str(rmse))"
      ],
      "metadata": {
        "colab": {
          "base_uri": "https://localhost:8080/"
        },
        "id": "5i1uusAi7_Ru",
        "outputId": "c990b3aa-d7c4-4118-8be4-1921d0dc06cb"
      },
      "execution_count": 59,
      "outputs": [
        {
          "output_type": "stream",
          "name": "stdout",
          "text": [
            "Root-mean-square error = 0.9911746886903878\n"
          ]
        }
      ]
    },
    {
      "cell_type": "code",
      "source": [
        "userRecs = model.recommendForAllUsers(10)\n",
        "movieRecs = model.recommendForAllItems(10)"
      ],
      "metadata": {
        "id": "G7-JEc0X8YD4"
      },
      "execution_count": 60,
      "outputs": []
    },
    {
      "cell_type": "code",
      "source": [
        "users = ratings.select(als.getUserCol()).distinct().limit(3)\n",
        "userSubsetRecs = model.recommendForUserSubset(users, 10)"
      ],
      "metadata": {
        "id": "u34tyh8w8eQN"
      },
      "execution_count": 61,
      "outputs": []
    },
    {
      "cell_type": "code",
      "source": [
        "userSubsetRecs.show()"
      ],
      "metadata": {
        "colab": {
          "base_uri": "https://localhost:8080/"
        },
        "id": "vqMvE88L8mAO",
        "outputId": "b0c43b1e-4068-41ae-a85c-d1660c737026"
      },
      "execution_count": 66,
      "outputs": [
        {
          "output_type": "stream",
          "name": "stdout",
          "text": [
            "+------+--------------------+\n",
            "|userId|     recommendations|\n",
            "+------+--------------------+\n",
            "|    26|[{22, 4.605868}, ...|\n",
            "|    19|[{90, 3.3382707},...|\n",
            "|    29|[{46, 4.193815}, ...|\n",
            "+------+--------------------+\n",
            "\n"
          ]
        }
      ]
    },
    {
      "cell_type": "code",
      "source": [
        "movies = ratings.select(als.getItemCol()).distinct().limit(3)\n",
        "movieSubSetRecs = model.recommendForItemSubset(movies, 10)"
      ],
      "metadata": {
        "id": "PRv2w2-R8g08"
      },
      "execution_count": 62,
      "outputs": []
    },
    {
      "cell_type": "code",
      "source": [
        "movieSubSetRecs.show()"
      ],
      "metadata": {
        "colab": {
          "base_uri": "https://localhost:8080/"
        },
        "id": "EiEAPZvP8xU7",
        "outputId": "2621751e-ebdc-47b1-b6f2-6f3f2d359998"
      },
      "execution_count": 67,
      "outputs": [
        {
          "output_type": "stream",
          "name": "stdout",
          "text": [
            "+-------+--------------------+\n",
            "|movieId|     recommendations|\n",
            "+-------+--------------------+\n",
            "|     65|[{23, 3.8746052},...|\n",
            "|     26|[{0, 2.0833347}, ...|\n",
            "|     29|[{8, 4.713466}, {...|\n",
            "+-------+--------------------+\n",
            "\n"
          ]
        }
      ]
    }
  ]
}